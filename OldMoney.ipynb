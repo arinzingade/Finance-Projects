{
 "cells": [
  {
   "cell_type": "markdown",
   "metadata": {},
   "source": [
    "    Importing Libraries"
   ]
  },
  {
   "cell_type": "code",
   "execution_count": 153,
   "metadata": {},
   "outputs": [],
   "source": [
    "import numpy as np\n",
    "import pandas as pd\n",
    "import yfinance as yf"
   ]
  },
  {
   "cell_type": "markdown",
   "metadata": {},
   "source": [
    "    Data Exploration"
   ]
  },
  {
   "cell_type": "code",
   "execution_count": 154,
   "metadata": {},
   "outputs": [
    {
     "name": "stderr",
     "output_type": "stream",
     "text": [
      "[*********************100%%**********************]  1 of 1 completed\n"
     ]
    }
   ],
   "source": [
    "df = yf.download(\"^NSEI\", start = \"2024-01-01\", end = \"2024-01-25\")\n",
    "\n",
    "def pct_change(arr):\n",
    "    l = len(arr)\n",
    "    res = arr.copy()\n",
    "    res[0] = -1\n",
    "    for i in range(1, l):\n",
    "        res[i] = (arr[i]/arr[i-1] - 1)*100\n",
    "    \n",
    "    return res\n",
    "\n",
    "def pct_change_cross(arr1, arr2):\n",
    "    l = len(arr1)\n",
    "    res = arr1.copy()\n",
    "    res[0] = -1\n",
    "    for i in range(1, l):\n",
    "        res[i] = (arr1[i]/arr2[i-1] - 1)*100\n",
    "    \n",
    "    return res\n",
    "\n",
    "df['Close to Close'] = pct_change(np.array(df['Close']))\n",
    "df['Close to Open'] = pct_change_cross(np.array(df['Open']), np.array(df['Close']))\n",
    "df['Close to Next High'] = pct_change_cross(np.array(df['High']), np.array(df['Close']))\n",
    "df['Close to Next Low'] = pct_change_cross(np.array(df['Low']), np.array(df['Close']))"
   ]
  },
  {
   "cell_type": "markdown",
   "metadata": {},
   "source": [
    "    Calculating the Final Analysis of Profit and Loss Days"
   ]
  },
  {
   "cell_type": "code",
   "execution_count": 155,
   "metadata": {},
   "outputs": [
    {
     "name": "stdout",
     "output_type": "stream",
     "text": [
      "REPORT ON LOSS\n",
      " \n",
      "Total SL days: 8 / 16 \n",
      " % Day SL hit 50.0 %\n",
      "--------------------------------------------------------------------------\n",
      "REPORT FOR PERFECT DAYS\n",
      " \n",
      "Total Perfect Days: 5 / 16\n",
      "% Perfect Days:  31.25 %\n",
      "--------------------------------------------------------------------------\n",
      "REPORT FOR MILD PROFIT DAYS\n",
      " \n",
      "Total MILD PROFIT Days: 3 / 16\n",
      "% Perfect Days:  18.75 %\n",
      " \n",
      "------------------------------END OF ANALYSIS-----------------------------\n"
     ]
    }
   ],
   "source": [
    "df_interest = pd.DataFrame()\n",
    "\n",
    "high_positive = []\n",
    "for i in range(len(np.array(df['Close to Next Low']))):\n",
    "    if np.array(df['Close to Next High'])[i] > 0:\n",
    "        high_positive.append(1)\n",
    "    else:\n",
    "        high_positive.append(0)\n",
    "\n",
    "low_negative = []\n",
    "for i in range(len(np.array(df['Close to Next Low']))):\n",
    "    if np.array(df['Close to Next Low'])[i] < 0:\n",
    "        low_negative.append(1)\n",
    "    else:\n",
    "        low_negative.append(0)\n",
    "\n",
    "high_less_one = []\n",
    "sl = 0\n",
    "for i in range(len(np.array(df['Close to Next Low']))):\n",
    "    if np.array(df['Close to Next High'])[i] < 1:\n",
    "        high_less_one.append(1)\n",
    "    else:\n",
    "        high_less_one.append(0)\n",
    "        sl += 1\n",
    "        \n",
    "\n",
    "low_less_one = []\n",
    "for i in range(len(np.array(df['Close to Next Low']))):\n",
    "    if np.array(df['Close to Next Low'])[i] > -1:\n",
    "        low_less_one.append(1)\n",
    "    else:\n",
    "        low_less_one.append(0)\n",
    "        sl += 1\n",
    "\n",
    "res = []\n",
    "perf = 0\n",
    "for i in range(len(np.array(df['Close to Next Low']))):\n",
    "    var = high_positive[i] and low_negative[i] and high_less_one[i] and low_less_one[i]\n",
    "    res.append(var)\n",
    "    if var == 1:\n",
    "        perf += 1\n",
    "        \n",
    "df_interest['High Positive'] = high_positive\n",
    "df_interest['Low Negative'] = low_negative\n",
    "df_interest['High < 1%'] = high_less_one\n",
    "df_interest['Low < 1%'] = low_less_one\n",
    "df_interest['Result'] = res\n",
    "\n",
    "\n",
    "print(\"REPORT ON LOSS\")\n",
    "print(\" \")\n",
    "\n",
    "print(\"Total SL days:\", sl, \"/\", len(np.array(df['Close to Next Low'])), \"\\n\", \n",
    "      \"% Day SL hit\", (sl/len(np.array(df['Close to Next Low'])))*100, \"%\")\n",
    "\n",
    "print(\"--------------------------------------------------------------------------\")\n",
    "\n",
    "print(\"REPORT FOR PERFECT DAYS\")\n",
    "print(\" \")\n",
    "print(\"Total Perfect Days:\", perf, \"/\", len(np.array(df['Close to Next Low'])))\n",
    "print(\"% Perfect Days: \", perf/len(np.array(df['Close to Next Low']))*100, \"%\")\n",
    "print(\"--------------------------------------------------------------------------\")\n",
    "\n",
    "print(\"REPORT FOR MILD PROFIT DAYS\")\n",
    "print(\" \")\n",
    "print(\"Total MILD PROFIT Days:\", len(np.array(df['Close to Next Low'])) - perf - sl, \"/\", len(np.array(df['Close to Next Low'])))\n",
    "print(\"% Perfect Days: \", (len(np.array(df['Close to Next Low'])) - perf - sl)/len(np.array(df['Close to Next Low']))*100, \"%\")\n",
    "\n",
    "print(\" \")\n",
    "print(\"------------------------------END OF ANALYSIS-----------------------------\")"
   ]
  }
 ],
 "metadata": {
  "kernelspec": {
   "display_name": "Python 3",
   "language": "python",
   "name": "python3"
  },
  "language_info": {
   "codemirror_mode": {
    "name": "ipython",
    "version": 3
   },
   "file_extension": ".py",
   "mimetype": "text/x-python",
   "name": "python",
   "nbconvert_exporter": "python",
   "pygments_lexer": "ipython3",
   "version": "3.12.1"
  }
 },
 "nbformat": 4,
 "nbformat_minor": 2
}
